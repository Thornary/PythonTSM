{
  "cells": [
    {
      "cell_type": "markdown",
      "metadata": {
        "id": "view-in-github",
        "colab_type": "text"
      },
      "source": [
        "<a href=\"https://colab.research.google.com/github/Thornary/PythonTSM/blob/main/Copie_de_lab1.ipynb\" target=\"_parent\"><img src=\"https://colab.research.google.com/assets/colab-badge.svg\" alt=\"Open In Colab\"/></a>"
      ]
    },
    {
      "cell_type": "markdown",
      "metadata": {
        "id": "xyMrTDyJV5KP"
      },
      "source": [
        "# Exercise 1.\n",
        "* Write a function that determines if a year (given as parameter) is a leap year or not.\n",
        "    * The function should return a Boolean value.\n",
        "    * A year is a leap year if it is divisible by 4, unless it is also divisible by 100, with the exception that a year divisible by 400 is a leap year."
      ]
    },
    {
      "cell_type": "code",
      "execution_count": null,
      "metadata": {
        "id": "I8kfJtXSV5KQ",
        "outputId": "7449e653-760b-402b-d238-df7bb5149fd9",
        "colab": {
          "base_uri": "https://localhost:8080/"
        }
      },
      "outputs": [
        {
          "output_type": "execute_result",
          "data": {
            "text/plain": [
              "True"
            ]
          },
          "metadata": {},
          "execution_count": 14
        }
      ],
      "source": [
        "def lapyear (year) :\n",
        "  if (year % 4 == 0) :\n",
        "    if (year % 100 == 0) :\n",
        "      if (year % 400 == 0) :\n",
        "        return True\n",
        "      else :\n",
        "        return False\n",
        "    else :\n",
        "      return True\n",
        "  else :\n",
        "    return False\n",
        "\n",
        "lapyear (2024)\n",
        "lapyear (2021)\n",
        "lapyear (2000)"
      ]
    },
    {
      "cell_type": "markdown",
      "metadata": {
        "id": "BRc_n3M2V5KR"
      },
      "source": [
        "# Exercise 2.\n",
        "* Write a function that takes two lists of integers as parameters, representing intervals.\n",
        "    * The function must check that each list contains exactly 2 elements, and computes the union of the two intervals.\n"
      ]
    },
    {
      "cell_type": "code",
      "source": [
        "def union (list1, list2) :\n",
        "  if (len(list1) != 2) and (len(list2) != 2) :\n",
        "    union = False\n",
        "  else :\n",
        "    if (list1[0]>list2[1]) or (list2[0]>list1[1]) :\n",
        "      union = [list1, list2]\n",
        "    else :\n",
        "      if (list1[0]<list2[0]) :\n",
        "        if (list1[1]>list2[1]):\n",
        "          union = list1\n",
        "        else :\n",
        "          union = [list1[0],list2[1]]\n",
        "      else :\n",
        "        if (list2[1]>list1[1]):\n",
        "          union = list2\n",
        "        else :\n",
        "          union = [list2[0],list1[1]]\n",
        "  return union\n",
        "\n",
        "listOne = [3,6]\n",
        "listeTwo = [7,8]\n",
        "\n",
        "union(listOne,listeTwo)\n"
      ],
      "metadata": {
        "id": "amJFLUHchYqq",
        "colab": {
          "base_uri": "https://localhost:8080/"
        },
        "outputId": "2134675f-1df0-42e1-af56-9c7b755bfd3b"
      },
      "execution_count": 6,
      "outputs": [
        {
          "output_type": "execute_result",
          "data": {
            "text/plain": [
              "[[3, 6], [7, 8]]"
            ]
          },
          "metadata": {},
          "execution_count": 6
        }
      ]
    },
    {
      "cell_type": "markdown",
      "metadata": {
        "id": "ktiL8oQeV5KR"
      },
      "source": [
        "# Exercise 3.\n",
        "* Write a function that determines if a number given as parameter is a perfect number.\n",
        "    * A perfect number is a positive integer equal to the sum of its positive proper divisors (divisors excluding the number itself)."
      ]
    },
    {
      "cell_type": "code",
      "source": [
        "def perfectNumber (number) :\n",
        "  somme = 0\n",
        "  for i in range (1,number) :\n",
        "    if (number % i == 0) :\n",
        "      somme += i\n",
        "  if (somme == number) :\n",
        "    return True\n",
        "  else :\n",
        "    return False\n",
        "\n",
        "perfectNumber (496)"
      ],
      "metadata": {
        "id": "IfYdSky-hbhE",
        "outputId": "99bed72f-b852-4bd0-f757-d594914087af",
        "colab": {
          "base_uri": "https://localhost:8080/"
        }
      },
      "execution_count": null,
      "outputs": [
        {
          "output_type": "execute_result",
          "data": {
            "text/plain": [
              "True"
            ]
          },
          "metadata": {},
          "execution_count": 23
        }
      ]
    },
    {
      "cell_type": "markdown",
      "metadata": {
        "id": "PUr4EHtxV5KR"
      },
      "source": [
        "# Exercise 4.\n",
        "* Write a function that returns the min and max values of a list given as parameter."
      ]
    },
    {
      "cell_type": "code",
      "source": [
        "def minMax (liste) :\n",
        "  min = float ('inf')\n",
        "  max = float ('-inf')\n",
        "  for i in liste :\n",
        "    if i < min :\n",
        "      min = i\n",
        "    if i > max :\n",
        "      max = i\n",
        "  return min, max\n",
        "\n",
        "liste1 = [-3,1,16,8,89,-36]\n",
        "liste2 = [-3,0,-7556,float('inf'),888888889,-36]\n",
        "minMax (liste2)"
      ],
      "metadata": {
        "id": "oKzHA7rwhl6K",
        "outputId": "f38fa4bd-8074-4eca-ef66-22434156e46e",
        "colab": {
          "base_uri": "https://localhost:8080/"
        }
      },
      "execution_count": null,
      "outputs": [
        {
          "output_type": "execute_result",
          "data": {
            "text/plain": [
              "(-7556, inf)"
            ]
          },
          "metadata": {},
          "execution_count": 26
        }
      ]
    },
    {
      "cell_type": "markdown",
      "metadata": {
        "id": "jx9EIBovV5KR"
      },
      "source": [
        "# Exercise 5.\n",
        "* Write a function that checks if a list given as parameter is a Fibonacci sequence."
      ]
    },
    {
      "cell_type": "code",
      "execution_count": null,
      "metadata": {
        "id": "y0bNPPgsV5KS",
        "outputId": "ea9ac20b-82a5-4ae9-ce0b-0470c8db395f",
        "colab": {
          "base_uri": "https://localhost:8080/"
        }
      },
      "outputs": [
        {
          "output_type": "execute_result",
          "data": {
            "text/plain": [
              "True"
            ]
          },
          "metadata": {},
          "execution_count": 29
        }
      ],
      "source": [
        "def fibonacciSeq (liste) :\n",
        "  for i in range (2,len(liste)):\n",
        "    if (liste[i]==liste[i-1]+liste[i-2]) :\n",
        "      seq = True\n",
        "    else :\n",
        "      seq = False\n",
        "      break\n",
        "  return seq\n",
        "\n",
        "liste1 = [0,1,1,2,3,5,8,13]\n",
        "liste2 = [5,7,12,19,31]\n",
        "liste3 = [0,1,1,2,3,5,8,14]\n",
        "fibonacciSeq (liste3)"
      ]
    },
    {
      "cell_type": "markdown",
      "metadata": {
        "id": "YtORIYaqV5KS"
      },
      "source": [
        "# Exercise 6.\n",
        "* Write a function that takes as input a two-dimensional list and computes the average for each row in the list.\n",
        "    * The function should return a list containing the average value of each row."
      ]
    },
    {
      "cell_type": "code",
      "execution_count": null,
      "metadata": {
        "id": "JTPlfNtzV5KS",
        "outputId": "f445f74e-0e17-434b-f729-78b64a06e65a",
        "colab": {
          "base_uri": "https://localhost:8080/"
        }
      },
      "outputs": [
        {
          "output_type": "execute_result",
          "data": {
            "text/plain": [
              "[35, -36]"
            ]
          },
          "metadata": {},
          "execution_count": 36
        }
      ],
      "source": [
        "\n",
        "def averageList (list) :\n",
        "  listFinal = []\n",
        "  for i in range (len(list)) :\n",
        "    somme = 0\n",
        "    for j in range (len(list[i])) :\n",
        "      somme += list[i][j]\n",
        "    listFinal.append (somme)\n",
        "  return listFinal\n",
        "\n",
        "list1 = [[3,5,5], [4,3,2]]\n",
        "list2 = [[3,5,5,8,14], [4,3,2,13,-58]]\n",
        "averageList(list2)\n"
      ]
    }
  ],
  "metadata": {
    "language_info": {
      "name": "python"
    },
    "colab": {
      "provenance": [],
      "include_colab_link": true
    },
    "kernelspec": {
      "name": "python3",
      "display_name": "Python 3"
    }
  },
  "nbformat": 4,
  "nbformat_minor": 0
}